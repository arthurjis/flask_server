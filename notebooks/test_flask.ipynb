{
 "cells": [
  {
   "cell_type": "code",
   "execution_count": 3,
   "id": "81a03e13-0b50-4e16-b982-b45e7d9cddd1",
   "metadata": {},
   "outputs": [],
   "source": [
    "import subprocess\n",
    "import random\n",
    "import time\n",
    "import json"
   ]
  },
  {
   "cell_type": "code",
   "execution_count": 43,
   "id": "5b20a727-54a1-4c64-962a-bd4b8ccc1d56",
   "metadata": {},
   "outputs": [],
   "source": [
    "# SET URL\n",
    "\n",
    "# url = \"https://flask.puffwonderland.com\"\n",
    "url = \"http://127.0.0.1:5000\"\n",
    "\n",
    "\n",
    "# SET FORM\n",
    "\n",
    "form_1 = {\n",
    "    'class_level': '高级',\n",
    "    'class_type': '读写整合课',  \n",
    "    'reading_article': \"\"\"It was at ten o'clock today that the first of all Time Machines began its career. I gave it a last check,and sat myself in the leather seat. I pushed the starting lever on the main panel forwards an inch then immediately backwards again. Looking around,I saw my laboratory exactly as before.Had anything happened? I thought my mind had tricked me. Then I saw the clock. A moment before，it was a minute or so past ten; now it was nearly half past three!\"\"\",\n",
    "    'reading_theme': '阅读主题',\n",
    "    'question_usage': '多项选择题、填空题等',\n",
    "    'a_number': 5,\n",
    "    'b_number': 4,\n",
    "    'c_number': 3,\n",
    "    'highlighted_words': '重要,关键,示例'\n",
    "}\n",
    "\n",
    "form_2 = {\n",
    "    'class_level': '高级',\n",
    "    'class_type': '拓展阅读',  \n",
    "    'reading_article': \"\"\"It was at ten o'clock today that the first of all Time Machines began its career. I gave it a last check,and sat myself in the leather seat. I pushed the starting lever on the main panel forwards an inch then immediately backwards again. Looking around,I saw my laboratory exactly as before.Had anything happened? I thought my mind had tricked me. Then I saw the clock. A moment before，it was a minute or so past ten; now it was nearly half past three!\"\"\",\n",
    "    'reading_theme': '阅读主题',\n",
    "    'words_min': 300,\n",
    "    'words_max': 500,\n",
    "    'd_number': 5,\n",
    "}\n",
    "\n",
    "\n",
    "form = form_1\n",
    "# form = form_2"
   ]
  },
  {
   "cell_type": "code",
   "execution_count": 44,
   "id": "5fbd27e3-ec54-41d3-938f-9c04d3c4aabe",
   "metadata": {},
   "outputs": [
    {
     "name": "stdout",
     "output_type": "stream",
     "text": [
      "{\n",
      "  \"class_type\": \"读写整合课\", \n",
      "  \"missing_placeholders\": [], \n",
      "  \"num_steps\": 3, \n",
      "  \"token\": \"64edb01b195443d7e3a48a71\"\n",
      "}\n"
     ]
    }
   ],
   "source": [
    "# Trigger generation\n",
    "\n",
    "payload = {\"form\": form}\n",
    "payload_json = json.dumps(payload)\n",
    "\n",
    "command = [\n",
    "    \"curl\",\n",
    "    \"-X\", \"POST\",\n",
    "    f\"{url}/generate\",\n",
    "    \"-H\", \"Content-Type: application/json\",\n",
    "    \"-d\", payload_json\n",
    "]\n",
    "# print(command)\n",
    "\n",
    "response = subprocess.run(command, capture_output=True, text=True)\n",
    "\n",
    "# print(response.stdout)\n",
    "\n",
    "token = json.loads(response.stdout)['token']\n",
    "\n",
    "stdout_str = response.stdout.strip()\n",
    "decoded_str = stdout_str.encode('utf-8').decode('unicode_escape')\n",
    "print(decoded_str)"
   ]
  },
  {
   "cell_type": "code",
   "execution_count": 50,
   "id": "f67725f8-7ba1-4385-b17c-e1336454804f",
   "metadata": {},
   "outputs": [
    {
     "name": "stdout",
     "output_type": "stream",
     "text": [
      "{\"type\": \"读写整合课\", \"num_steps\": 3, \"current_step\": 3, \"status\": \"complete\", \"completion\": \"阅读主题的读写整合课作业清单\n",
      "\n",
      "Part I - Multiple Choice Questions (Understanding)\n",
      "\n",
      "1. What time did the Time Machine start its journey? \n",
      "Design Intent: To test comprehension of the specific time mentioned in the passage.\n",
      "Answer: b. Ten o'clock\n",
      "\n",
      "2. Where was the narrator when he started the Time Machine? \n",
      "Design Intent: To assess understanding of the narrator's location at the beginning of the story.\n",
      "Answer: a. A laboratory\n",
      "\n",
      "3. How did the narrator suspect that time travel might have occurred? \n",
      "Design Intent: To evaluate comprehension of the clues leading the narrator to suspect time travel.\n",
      "Answer: c. The clock showed a different time\n",
      "\n",
      "4. What is the meaning of the word \"key\" as used in our story?\n",
      "Design Intent: To assess understanding of the specific vocabulary word used in the passage.\n",
      "Answer: c. Essential or of great significance\n",
      "\n",
      "5. What is the significance of the laboratory in the story?\n",
      "Design Intent: To test comprehension of the purpose of the laboratory in relation to the story.\n",
      "Answer: a. It is where the time machine started its journey\n",
      "\n",
      "Part II - Fill in The Blanks (Application)\n",
      "\n",
      "1. The narrator sat himself in the __________ seat of the Time machine. \n",
      "Design Intent: To assess knowledge of vocabulary and understanding of the context.\n",
      "Answer: leather\n",
      "\n",
      "2. He pushed the starting lever on the __________ panel of the machine.\n",
      "Design Intent: To test understanding of vocabulary and application of the correct word in the context.\n",
      "Answer: main\n",
      "\n",
      "3. The __________ before, it was a minute or so past ten.\n",
      "Design Intent: To evaluate comprehension of the sentence structure and usage of vocabulary.\n",
      "Answer: moment\n",
      "\n",
      "4. He thought his __________ had tricked him.\n",
      "Design Intent: To assess understanding of the narration and appropriate word usage.\n",
      "Answer: mind\n",
      "\n",
      "Part III - Translation or Composition (Innovation)\n",
      "\n",
      "1. Translate the following from this passage to your native language: \"It was at ten o'clock today that the first of all Time Machines began its career.\"\n",
      "Design Intent: To engage students' language proficiency and translation skills.\n",
      "Answer: The translation will vary depending on the student's native language.\n",
      "\n",
      "2. Write 2-3 examples of \"time\" using the key time-related vocabulary from the passage.\n",
      "Design Intent: To reinforce vocabulary and encourage creativity in constructing sentences related to the concept of time.\n",
      "Answer: Examples could be generated based on the student's creativity and understanding of the given vocabulary.\n",
      "\n",
      "3. Craft a short story or dialogue using the key words: important, key, example.\n",
      "Design Intent: To promote creative thinking and language production using the specified words.\n",
      "Answer: The answer will depend on the student's ability to construct a coherent narrative or dialogue incorporating the specified words. Examples are endless.\", \"start_time\": \"2023-08-29T08:45:15.695000\", \"completion_time\": \"2023-08-29T08:46:46.050000\", \"usage\": 0.07588750000000001}\n"
     ]
    }
   ],
   "source": [
    "# Check completion\n",
    "\n",
    "command = [\n",
    "    \"curl\",\n",
    "    f\"{url}/check-completion?token={token}\"  # Include the token as a query parameter\n",
    "]\n",
    "# print(command)\n",
    "\n",
    "response = subprocess.run(command, capture_output=True, text=True)\n",
    "stdout_str = response.stdout.strip()\n",
    "decoded_str = stdout_str.encode('utf-8').decode('unicode_escape')\n",
    "print(decoded_str)"
   ]
  },
  {
   "cell_type": "code",
   "execution_count": null,
   "id": "a69b632e-bf32-4a75-b579-8d6d553fa29c",
   "metadata": {},
   "outputs": [],
   "source": []
  },
  {
   "cell_type": "code",
   "execution_count": null,
   "id": "3567eb05-81ba-49a1-a360-82fb97fec37c",
   "metadata": {},
   "outputs": [],
   "source": []
  },
  {
   "cell_type": "code",
   "execution_count": null,
   "id": "7a83f5db-cb61-4af4-92ab-0f50f8970359",
   "metadata": {},
   "outputs": [],
   "source": []
  },
  {
   "cell_type": "code",
   "execution_count": 49,
   "id": "24652cfd-7c66-4530-bdc3-793dc315fc47",
   "metadata": {},
   "outputs": [
    {
     "data": {
      "text/plain": [
       "0.12189749999999999"
      ]
     },
     "execution_count": 49,
     "metadata": {},
     "output_type": "execute_result"
    }
   ],
   "source": [
    "p = [744, 1237, 1801]\n",
    "c = [464, 504, 843]\n",
    "\n",
    "\n",
    "p[0] * 3e-5 + p[1] * 3e-5 + c[0] * 6e-5 + c[1] * 6e-5 + p[2] * 1.5e-6 + c[2] * 2e-6"
   ]
  },
  {
   "cell_type": "code",
   "execution_count": null,
   "id": "d6438647-de4a-4b88-ba84-1ecf6c7bd4ed",
   "metadata": {},
   "outputs": [],
   "source": []
  }
 ],
 "metadata": {
  "kernelspec": {
   "display_name": "Python 3 (ipykernel)",
   "language": "python",
   "name": "python3"
  },
  "language_info": {
   "codemirror_mode": {
    "name": "ipython",
    "version": 3
   },
   "file_extension": ".py",
   "mimetype": "text/x-python",
   "name": "python",
   "nbconvert_exporter": "python",
   "pygments_lexer": "ipython3",
   "version": "3.8.17"
  }
 },
 "nbformat": 4,
 "nbformat_minor": 5
}
